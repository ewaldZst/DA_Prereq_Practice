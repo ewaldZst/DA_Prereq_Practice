{
 "cells": [
  {
   "cell_type": "code",
   "execution_count": 1,
   "id": "7f1e3a4b",
   "metadata": {},
   "outputs": [
    {
     "name": "stdout",
     "output_type": "stream",
     "text": [
      "Testing a print statement in my notebook.\n"
     ]
    }
   ],
   "source": [
    "print(\"Testing a print statement in my notebook.\")"
   ]
  },
  {
   "cell_type": "markdown",
   "id": "52eecaca",
   "metadata": {},
   "source": [
    "Hi, my name is Evan Waldrop. I am someone who loves learning, and I am excited to dive in and start discovering how to use what we learn in class both in my personal life and at work. In my free time I like to watch hockey (go Blackhawks), play video games, spend time with family, and try new restaurants. "
   ]
  }
 ],
 "metadata": {
  "kernelspec": {
   "display_name": "Python 3",
   "language": "python",
   "name": "python3"
  },
  "language_info": {
   "codemirror_mode": {
    "name": "ipython",
    "version": 3
   },
   "file_extension": ".py",
   "mimetype": "text/x-python",
   "name": "python",
   "nbconvert_exporter": "python",
   "pygments_lexer": "ipython3",
   "version": "3.13.0"
  }
 },
 "nbformat": 4,
 "nbformat_minor": 5
}
